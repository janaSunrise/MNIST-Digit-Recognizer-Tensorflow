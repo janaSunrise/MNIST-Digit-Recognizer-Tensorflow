{
  "nbformat": 4,
  "nbformat_minor": 0,
  "metadata": {
    "colab": {
      "name": "mnist_digit_classifier",
      "provenance": []
    },
    "kernelspec": {
      "name": "python3",
      "display_name": "Python 3"
    },
    "language_info": {
      "name": "python"
    },
    "accelerator": "GPU"
  },
  "cells": [
    {
      "cell_type": "code",
      "metadata": {
        "id": "WvgH8hPjkkvh"
      },
      "source": [
        "import numpy as np\n",
        "import matplotlib.pyplot as plt\n",
        "import tensorflow as tf\n",
        "from tensorflow import keras\n",
        "\n",
        "%matplotlib inline"
      ],
      "execution_count": 1,
      "outputs": []
    },
    {
      "cell_type": "code",
      "metadata": {
        "id": "E7fp-Prrl7DQ"
      },
      "source": [
        "# Get the reference to the dataset\n",
        "mnist = keras.datasets.mnist\n",
        "\n",
        "# Separate into Train and test sets\n",
        "(train_images, train_labels), (test_images, test_labels) = mnist.load_data()"
      ],
      "execution_count": 2,
      "outputs": []
    },
    {
      "cell_type": "code",
      "metadata": {
        "colab": {
          "base_uri": "https://localhost:8080/"
        },
        "id": "jeHkoxoYnE_c",
        "outputId": "b2e52f8f-eb4d-4977-dacc-a5f860273065"
      },
      "source": [
        "# Check the shapes\n",
        "print(\"Train images\", train_images.shape)\n",
        "print(\"Test images\", test_images.shape)"
      ],
      "execution_count": 3,
      "outputs": [
        {
          "output_type": "stream",
          "text": [
            "Train images (60000, 28, 28)\n",
            "Test images (10000, 28, 28)\n"
          ],
          "name": "stdout"
        }
      ]
    },
    {
      "cell_type": "code",
      "metadata": {
        "colab": {
          "base_uri": "https://localhost:8080/",
          "height": 589
        },
        "id": "smWCU6Atnhvd",
        "outputId": "9bd4ceb8-894a-48c2-ac35-0448a10d4db5"
      },
      "source": [
        "# See a grid of the images\n",
        "plt.figure(figsize=(10, 10))\n",
        "\n",
        "for i in range(25):\n",
        "    plt.subplot(5,5,i+1)\n",
        "\n",
        "    plt.xticks([])\n",
        "    plt.yticks([])\n",
        "    plt.grid(False)\n",
        "\n",
        "    plt.imshow(train_images[i], cmap=plt.cm.binary)\n",
        "    plt.xlabel(train_labels[i])\n",
        "\n",
        "plt.show()"
      ],
      "execution_count": 4,
      "outputs": [
        {
          "output_type": "display_data",
          "data": {
            "image/png": "[encoded data removed]",
            "text/plain": [
              "<Figure size 720x720 with 25 Axes>"
            ]
          },
          "metadata": {
            "tags": []
          }
        }
      ]
    },
    {
      "cell_type": "code",
      "metadata": {
        "id": "JmOE7J_Bd833"
      },
      "source": [
        "# Resize and preprocess the data\n",
        "train_images = train_images.reshape(train_images.shape[0], 28, 28, 1)\n",
        "test_images = test_images.reshape(test_images.shape[0], 28, 28, 1)\n",
        "\n",
        "input_shape = (28, 28, 1)\n",
        "\n",
        "# Convert into float for Keras API\n",
        "train_images = train_images.astype('float32')\n",
        "test_images = test_images.astype('float32')\n",
        "\n",
        "# Normalize the data\n",
        "train_images, test_images = train_images / 255.0, test_images / 255.0\n",
        "\n",
        "# Validation set\n",
        "validation_samples = 10000\n",
        "\n",
        "x_val = train_images[-validation_samples:]\n",
        "y_val = train_labels[-validation_samples:]\n",
        "train_images = train_images[:-validation_samples]\n",
        "train_labels = train_labels[:-validation_samples]"
      ],
      "execution_count": 5,
      "outputs": []
    },
    {
      "cell_type": "code",
      "metadata": {
        "id": "kQv2S1IInvNQ"
      },
      "source": [
        "# Create the model!\n",
        "model = keras.models.Sequential([\n",
        "  keras.layers.Conv2D(32, kernel_size=(3,3), input_shape=input_shape, activation=\"relu\"),\n",
        "  keras.layers.MaxPooling2D(pool_size=(2, 2)),\n",
        "  keras.layers.Dropout(0.2),\n",
        "\n",
        "  keras.layers.Conv2D(64, (3,3), activation=\"relu\"),\n",
        "  keras.layers.MaxPooling2D(pool_size=(2, 2)),\n",
        "  keras.layers.Dropout(0.2),\n",
        "\n",
        "  keras.layers.Flatten(),\n",
        "  keras.layers.Dense(128, activation=\"relu\"),\n",
        "  keras.layers.Dropout(0.5),\n",
        "  keras.layers.Dense(10, activation=\"softmax\")\n",
        "])"
      ],
      "execution_count": 6,
      "outputs": []
    },
    {
      "cell_type": "code",
      "metadata": {
        "id": "oDViQzrTpPA8"
      },
      "source": [
        "# Compile the model\n",
        "model.compile(optimizer='adam', loss='sparse_categorical_crossentropy', metrics=['accuracy'])"
      ],
      "execution_count": 7,
      "outputs": []
    },
    {
      "cell_type": "code",
      "metadata": {
        "id": "jJbPBzeerjxu"
      },
      "source": [
        "# Initializing a callback, So the model doesn't train further, If there is no proper improvement in it. Within 4 epochs.\n",
        "callback = keras.callbacks.EarlyStopping(monitor='loss', patience=3)"
      ],
      "execution_count": 8,
      "outputs": []
    },
    {
      "cell_type": "code",
      "metadata": {
        "colab": {
          "base_uri": "https://localhost:8080/"
        },
        "id": "HL5xB5eqpVd1",
        "outputId": "f8990574-5645-4469-89b8-59433d4f1bb6"
      },
      "source": [
        "# We'll start the training process now, with 20 epochs.\n",
        "model.fit(train_images, train_labels, epochs=20, callbacks=[callback], validation_data=(x_val, y_val))"
      ],
      "execution_count": 9,
      "outputs": [
        {
          "output_type": "stream",
          "text": [
            "Epoch 1/20\n",
            "1563/1563 [==============================] - 8s 4ms/step - loss: 0.5257 - accuracy: 0.8310 - val_loss: 0.0611 - val_accuracy: 0.9823\n",
            "Epoch 2/20\n",
            "1563/1563 [==============================] - 5s 3ms/step - loss: 0.1096 - accuracy: 0.9673 - val_loss: 0.0428 - val_accuracy: 0.9883\n",
            "Epoch 3/20\n",
            "1563/1563 [==============================] - 5s 3ms/step - loss: 0.0770 - accuracy: 0.9773 - val_loss: 0.0361 - val_accuracy: 0.9906\n",
            "Epoch 4/20\n",
            "1563/1563 [==============================] - 5s 3ms/step - loss: 0.0632 - accuracy: 0.9810 - val_loss: 0.0351 - val_accuracy: 0.9906\n",
            "Epoch 5/20\n",
            "1563/1563 [==============================] - 5s 3ms/step - loss: 0.0564 - accuracy: 0.9827 - val_loss: 0.0299 - val_accuracy: 0.9918\n",
            "Epoch 6/20\n",
            "1563/1563 [==============================] - 5s 3ms/step - loss: 0.0477 - accuracy: 0.9856 - val_loss: 0.0321 - val_accuracy: 0.9912\n",
            "Epoch 7/20\n",
            "1563/1563 [==============================] - 5s 3ms/step - loss: 0.0462 - accuracy: 0.9861 - val_loss: 0.0321 - val_accuracy: 0.9910\n",
            "Epoch 8/20\n",
            "1563/1563 [==============================] - 5s 3ms/step - loss: 0.0382 - accuracy: 0.9879 - val_loss: 0.0357 - val_accuracy: 0.9909\n",
            "Epoch 9/20\n",
            "1563/1563 [==============================] - 5s 3ms/step - loss: 0.0365 - accuracy: 0.9884 - val_loss: 0.0387 - val_accuracy: 0.9902\n",
            "Epoch 10/20\n",
            "1563/1563 [==============================] - 5s 3ms/step - loss: 0.0347 - accuracy: 0.9892 - val_loss: 0.0351 - val_accuracy: 0.9913\n",
            "Epoch 11/20\n",
            "1563/1563 [==============================] - 5s 3ms/step - loss: 0.0369 - accuracy: 0.9887 - val_loss: 0.0307 - val_accuracy: 0.9919\n",
            "Epoch 12/20\n",
            "1563/1563 [==============================] - 5s 3ms/step - loss: 0.0356 - accuracy: 0.9882 - val_loss: 0.0333 - val_accuracy: 0.9918\n",
            "Epoch 13/20\n",
            "1563/1563 [==============================] - 5s 3ms/step - loss: 0.0293 - accuracy: 0.9903 - val_loss: 0.0281 - val_accuracy: 0.9929\n",
            "Epoch 14/20\n",
            "1563/1563 [==============================] - 5s 3ms/step - loss: 0.0277 - accuracy: 0.9915 - val_loss: 0.0309 - val_accuracy: 0.9928\n",
            "Epoch 15/20\n",
            "1563/1563 [==============================] - 5s 3ms/step - loss: 0.0285 - accuracy: 0.9910 - val_loss: 0.0379 - val_accuracy: 0.9918\n",
            "Epoch 16/20\n",
            "1563/1563 [==============================] - 5s 3ms/step - loss: 0.0295 - accuracy: 0.9907 - val_loss: 0.0347 - val_accuracy: 0.9919\n",
            "Epoch 17/20\n",
            "1563/1563 [==============================] - 5s 3ms/step - loss: 0.0255 - accuracy: 0.9921 - val_loss: 0.0288 - val_accuracy: 0.9927\n",
            "Epoch 18/20\n",
            "1563/1563 [==============================] - 5s 3ms/step - loss: 0.0229 - accuracy: 0.9930 - val_loss: 0.0355 - val_accuracy: 0.9926\n",
            "Epoch 19/20\n",
            "1563/1563 [==============================] - 5s 3ms/step - loss: 0.0255 - accuracy: 0.9921 - val_loss: 0.0329 - val_accuracy: 0.9924\n",
            "Epoch 20/20\n",
            "1563/1563 [==============================] - 5s 3ms/step - loss: 0.0226 - accuracy: 0.9929 - val_loss: 0.0342 - val_accuracy: 0.9919\n"
          ],
          "name": "stdout"
        },
        {
          "output_type": "execute_result",
          "data": {
            "text/plain": [
              "<tensorflow.python.keras.callbacks.History at 0x7f74c0606490>"
            ]
          },
          "metadata": {
            "tags": []
          },
          "execution_count": 9
        }
      ]
    },
    {
      "cell_type": "code",
      "metadata": {
        "colab": {
          "base_uri": "https://localhost:8080/"
        },
        "id": "AhH9L91SpkeV",
        "outputId": "45581343-2e4b-49d1-e5c8-86fa0fac9967"
      },
      "source": [
        "# Time to evaluate the model's predictions.\n",
        "model.evaluate(test_images, test_labels)"
      ],
      "execution_count": 10,
      "outputs": [
        {
          "output_type": "stream",
          "text": [
            "313/313 [==============================] - 1s 2ms/step - loss: 0.0256 - accuracy: 0.9935\n"
          ],
          "name": "stdout"
        },
        {
          "output_type": "execute_result",
          "data": {
            "text/plain": [
              "[0.025565531104803085, 0.9934999942779541]"
            ]
          },
          "metadata": {
            "tags": []
          },
          "execution_count": 10
        }
      ]
    },
    {
      "cell_type": "code",
      "metadata": {
        "colab": {
          "base_uri": "https://localhost:8080/",
          "height": 282
        },
        "id": "grM7lzxutPW0",
        "outputId": "673c82e4-8e7f-4c61-c1fa-649f6d52c83a"
      },
      "source": [
        "# Great. We got 98.5% of accuracy. Let's test on a random digit.\n",
        "image_index = 2853\n",
        "\n",
        "plt.imshow(test_images[image_index].reshape(28, 28),cmap=\"gray\")\n",
        "predict = test_images[image_index].reshape(28,28)\n",
        "\n",
        "pred = model.predict(test_images[image_index].reshape(1, 28, 28, 1))\n",
        "\n",
        "print(\"Prediction\", pred.argmax())"
      ],
      "execution_count": 11,
      "outputs": [
        {
          "output_type": "stream",
          "text": [
            "Prediction 3\n"
          ],
          "name": "stdout"
        },
        {
          "output_type": "display_data",
          "data": {
            "image/png": "[encoded data removed]",
            "text/plain": [
              "<Figure size 432x288 with 1 Axes>"
            ]
          },
          "metadata": {
            "tags": [],
            "needs_background": "light"
          }
        }
      ]
    },
    {
      "cell_type": "code",
      "metadata": {
        "id": "nDh7cLU7tlqP"
      },
      "source": [
        "# Let's now save the model!\n",
        "model.save(\"mnist_classifier.h5\")"
      ],
      "execution_count": 12,
      "outputs": []
    },
    {
      "cell_type": "code",
      "metadata": {
        "id": "gnpY4nRBfzH6"
      },
      "source": [
        ""
      ],
      "execution_count": 12,
      "outputs": []
    }
  ]
}